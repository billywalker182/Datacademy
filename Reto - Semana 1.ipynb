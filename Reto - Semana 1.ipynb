{
 "cells": [
  {
   "cell_type": "markdown",
   "id": "ce453969",
   "metadata": {},
   "source": [
    "\n",
    "\n"
   ]
  },
  {
   "cell_type": "code",
   "execution_count": 5,
   "id": "34a7964a",
   "metadata": {},
   "outputs": [],
   "source": [
    "from IPython.display import display, Math, Latex"
   ]
  },
  {
   "cell_type": "markdown",
   "id": "b7177c10",
   "metadata": {},
   "source": [
    "# Reto 1 - Área de un triángulo"
   ]
  },
  {
   "cell_type": "code",
   "execution_count": 21,
   "id": "a50acd40",
   "metadata": {},
   "outputs": [
    {
     "data": {
      "text/latex": [
       "$\\displaystyle A = \\frac{b \\cdot h}{2}$"
      ],
      "text/plain": [
       "<IPython.core.display.Math object>"
      ]
     },
     "metadata": {},
     "output_type": "display_data"
    }
   ],
   "source": [
    "display(Math(r'A = \\frac{b \\cdot h}{2}'))"
   ]
  },
  {
   "cell_type": "code",
   "execution_count": 25,
   "id": "0f7b3279",
   "metadata": {},
   "outputs": [],
   "source": [
    "def AreaTriangulo(b,h):\n",
    "    return (b*h)/2"
   ]
  },
  {
   "cell_type": "code",
   "execution_count": 24,
   "id": "c3bf9de7",
   "metadata": {},
   "outputs": [
    {
     "data": {
      "text/plain": [
       "20.0"
      ]
     },
     "execution_count": 24,
     "metadata": {},
     "output_type": "execute_result"
    }
   ],
   "source": [
    "AreaTriangulo(5,8)"
   ]
  }
 ],
 "metadata": {
  "kernelspec": {
   "display_name": "Python 3",
   "language": "python",
   "name": "python3"
  },
  "language_info": {
   "codemirror_mode": {
    "name": "ipython",
    "version": 3
   },
   "file_extension": ".py",
   "mimetype": "text/x-python",
   "name": "python",
   "nbconvert_exporter": "python",
   "pygments_lexer": "ipython3",
   "version": "3.8.8"
  }
 },
 "nbformat": 4,
 "nbformat_minor": 5
}
