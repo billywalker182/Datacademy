{
 "cells": [
  {
   "cell_type": "markdown",
   "id": "ce453969",
   "metadata": {},
   "source": [
    "\n",
    "\n"
   ]
  },
  {
   "cell_type": "code",
   "execution_count": 128,
   "id": "34a7964a",
   "metadata": {},
   "outputs": [],
   "source": [
    "from IPython.display import display, Math, Latex\n",
    "from IPython.display import Image\n",
    "\n",
    "import sympy as sym\n",
    "\n",
    "import numpy as np"
   ]
  },
  {
   "cell_type": "markdown",
   "id": "b7177c10",
   "metadata": {},
   "source": [
    "# Reto 1 - Área de un triángulo"
   ]
  },
  {
   "cell_type": "code",
   "execution_count": 2,
   "id": "a50acd40",
   "metadata": {},
   "outputs": [
    {
     "data": {
      "text/latex": [
       "$\\displaystyle A = \\frac{b \\cdot h}{2}$"
      ],
      "text/plain": [
       "<IPython.core.display.Math object>"
      ]
     },
     "metadata": {},
     "output_type": "display_data"
    }
   ],
   "source": [
    "display(Math(r'A = \\frac{b \\cdot h}{2}'))"
   ]
  },
  {
   "cell_type": "code",
   "execution_count": 5,
   "id": "336c5633",
   "metadata": {},
   "outputs": [
    {
     "data": {
      "image/jpeg": "[encoded data removed]",
      "text/plain": [
       "<IPython.core.display.Image object>"
      ]
     },
     "execution_count": 5,
     "metadata": {
      "image/jpeg": {
       "width": 500
      }
     },
     "output_type": "execute_result"
    }
   ],
   "source": [
    "Image(filename=\"Triángulo-Escaleno.jpg\",width=500)"
   ]
  },
  {
   "cell_type": "markdown",
   "id": "277e057e",
   "metadata": {},
   "source": [
    "Para indicar si el triangulo es isósceles, equilatero o escaleno es necesario saber la distancia de `m` como hace referencia en la figura, ademas es necesario que `m` sea menor que la `base`."
   ]
  },
  {
   "cell_type": "code",
   "execution_count": 21,
   "id": "0f7b3279",
   "metadata": {},
   "outputs": [],
   "source": [
    "def AreaTriangulo(base,altura,m):\n",
    "    n = base - m\n",
    "    CA = base\n",
    "    CB = round(np.sqrt(m**2+altura**2),3)\n",
    "    AB = round(np.sqrt(n**2+altura**2),3)\n",
    "    if CB == AB and CA != CB:\n",
    "        print(\"\\nTriangulo es Isósceles\")\n",
    "    elif CB == AB and CA == CB:\n",
    "        print(\"\\nTriangulo es Equilatero\")\n",
    "    else:\n",
    "        print(\"\\nTriangulo es Escaleno\")\n",
    "    return (base*altura)/2"
   ]
  },
  {
   "cell_type": "code",
   "execution_count": 25,
   "id": "c3bf9de7",
   "metadata": {},
   "outputs": [
    {
     "name": "stdout",
     "output_type": "stream",
     "text": [
      "Ingrese el valor de la base: 7\n",
      "Ingrese el valor de la altura: 4\n",
      "\n",
      "Recuerde que el valor de m debe ser menor que la base\n",
      "Ingrese el valor de m: 2\n",
      "\n",
      "Triangulo es Escaleno\n",
      "El area del triangulo es: 14.0\n"
     ]
    }
   ],
   "source": [
    "b = float(input(\"Ingrese el valor de la base: \"))\n",
    "h = float(input(\"Ingrese el valor de la altura: \"))\n",
    "bandera = True\n",
    "while(bandera):\n",
    "    print(\"\\nRecuerde que el valor de m debe ser menor que la base\")\n",
    "    m = float(input(\"Ingrese el valor de m: \"))\n",
    "    if m < b:\n",
    "        bandera = False\n",
    "print(\"El area del triangulo es:\",AreaTriangulo(b,h,m))"
   ]
  },
  {
   "cell_type": "markdown",
   "id": "30fd5349",
   "metadata": {},
   "source": [
    "# Reto 2 - Piedra, Papel o Tijera"
   ]
  },
  {
   "cell_type": "code",
   "execution_count": 62,
   "id": "0a34ec8e",
   "metadata": {},
   "outputs": [],
   "source": [
    "def validar_jugada(jugador):\n",
    "    bandera = True\n",
    "    while(bandera):\n",
    "        opcion = input(jugador+\" Ingrese (Piedra-Papel-Tijeras): \")\n",
    "        opcion = opcion.upper()\n",
    "        if opcion == \"PIEDRA\" or opcion == \"PAPEL\" or opcion == \"TIJERAS\":\n",
    "            bandera = False\n",
    "    return opcion\n",
    "\n",
    "def ganador(opcion1,opcion2,victoria1,victoria2):\n",
    "    if (opcion1 == \"PIEDRA\" and opcion2 == \"PIEDRA\") or (opcion1 == \"PAPEL\" and opcion2 == \"PAPEL\") or (opcion1 == \"TIJERAS\" and opcion2 == \"TIJERAS\"):\n",
    "        print(\"Empate\")\n",
    "    elif (opcion1 == \"PIEDRA\" and opcion2 == \"PAPEL\") or (opcion1 == \"PAPEL\" and opcion2 == \"TIJERAS\") or (opcion1 == \"TIJERAS\" and opcion2 == \"PIEDRA\"):\n",
    "        print(\"Victoria para el Jugador 2\")\n",
    "        victoria2 += 1\n",
    "    elif (opcion1 == \"PAPEL\" and opcion2 == \"PIEDRA\") or (opcion1 == \"TIJERAS\" and opcion2 == \"PAPEL\") or (opcion1 == \"PIEDRA\" and opcion2 == \"TIJERAS\"):\n",
    "        print(\"Victoria para el Jugador 1\")\n",
    "        victoria1 += 1\n",
    "    return (victoria1,victoria2)"
   ]
  },
  {
   "cell_type": "code",
   "execution_count": 65,
   "id": "84f465df",
   "metadata": {},
   "outputs": [
    {
     "name": "stdout",
     "output_type": "stream",
     "text": [
      "\n",
      "Jugador 1 - Ingrese (Piedra-Papel-Tijeras): piedra\n",
      "Jugador 2 - Ingrese (Piedra-Papel-Tijeras): piedra\n",
      "Empate\n",
      "\n",
      "Jugador 1 - Ingrese (Piedra-Papel-Tijeras): papel\n",
      "Jugador 2 - Ingrese (Piedra-Papel-Tijeras): piedra\n",
      "Victoria para el Jugador 1\n",
      "\n",
      "Jugador 1 - Ingrese (Piedra-Papel-Tijeras): piedra\n",
      "Jugador 2 - Ingrese (Piedra-Papel-Tijeras): tijera\n",
      "Jugador 2 - Ingrese (Piedra-Papel-Tijeras): piedra\n",
      "Empate\n",
      "\n",
      "Jugador 1 - Ingrese (Piedra-Papel-Tijeras): piedra\n",
      "Jugador 2 - Ingrese (Piedra-Papel-Tijeras): tijeras\n",
      "Victoria para el Jugador 1\n",
      "\n",
      "Ganador es el Jugador 1\n"
     ]
    }
   ],
   "source": [
    "bandera = True\n",
    "victoria1 = 0\n",
    "victoria2 = 0\n",
    "while(bandera):\n",
    "    print(\"\")\n",
    "    jugador1 = validar_jugada(\"Jugador 1 -\")\n",
    "    jugador2 = validar_jugada(\"Jugador 2 -\")\n",
    "    victoria1,victoria2=ganador(jugador1,jugador2,victoria1,victoria2)\n",
    "    if victoria1 == 2 and victoria2 <=1:\n",
    "        print(\"\\nGanador es el Jugador 1\")\n",
    "        bandera=False\n",
    "    if victoria2 == 2 and victoria1 <=1:\n",
    "        print(\"\\nGanador es el Jugador 2\")\n",
    "        bandera=False"
   ]
  },
  {
   "cell_type": "markdown",
   "id": "8b0afd8a",
   "metadata": {},
   "source": [
    "# Reto 3 - Conversor de millas a kilómetros"
   ]
  },
  {
   "cell_type": "code",
   "execution_count": 69,
   "id": "c773d9a6",
   "metadata": {},
   "outputs": [
    {
     "name": "stdout",
     "output_type": "stream",
     "text": [
      "\n",
      "1. Millas a Kilometros\n",
      "2. Kilometros a Millas\n",
      "\n",
      "Ingrese una Opcion: 2\n",
      "Ingrese los Kilometros: 1.609344\n",
      "1.609344 Km equivalen a 1.0 Millas\n"
     ]
    }
   ],
   "source": [
    "print(\"\"\"\n",
    "1. Millas a Kilometros\n",
    "2. Kilometros a Millas\n",
    "\"\"\")\n",
    "\n",
    "opcion = int(input(\"Ingrese una Opcion: \"))\n",
    "if opcion == 1:\n",
    "    millas = float(input(\"Ingrese las Millas: \"))\n",
    "    kilometros = 1.609344 * millas\n",
    "    print(millas,\"Millas equivalen a\",kilometros,\"Km\")\n",
    "elif opcion == 2:\n",
    "    kilometros = float(input(\"Ingrese los Kilometros: \"))\n",
    "    millas = kilometros/1.609344 \n",
    "    print(kilometros,\"Km equivalen a\",millas,\"Millas\")\n",
    "else:\n",
    "    print(\"Ingreso una opción incorrecta :( \")"
   ]
  },
  {
   "cell_type": "markdown",
   "id": "144a47d1",
   "metadata": {},
   "source": [
    "# Reto 4 - Calculadora de volúmenes"
   ]
  },
  {
   "cell_type": "code",
   "execution_count": 132,
   "id": "aa051c48",
   "metadata": {},
   "outputs": [
    {
     "name": "stdout",
     "output_type": "stream",
     "text": [
      "\n",
      "\t::: ÁREAS :::\n",
      "1. Cilindro\n",
      "2. Circulo\n",
      "3. Triangulo\n",
      "\n",
      "Ingrese una Opcion: 2\n",
      "Ingrese el Radio (cm): 6\n"
     ]
    },
    {
     "data": {
      "text/latex": [
       "$\\displaystyle 113.097$$ cm^2$"
      ],
      "text/plain": [
       "<IPython.core.display.Math object>"
      ]
     },
     "metadata": {},
     "output_type": "display_data"
    }
   ],
   "source": [
    "print(\"\"\"\n",
    "\\t::: ÁREAS :::\n",
    "1. Cilindro\n",
    "2. Circulo\n",
    "3. Triangulo\n",
    "\"\"\")\n",
    "opcion = int(input(\"Ingrese una Opcion: \"))\n",
    "if opcion == 1:\n",
    "    radio = float(input(\"Ingrese el Radio (cm): \"))\n",
    "    altura = float(input(\"Ingrese la Altura(cm): \"))\n",
    "    Area = 2 * np.pi * radio * (radio + altura)\n",
    "    display(Math(sym.latex(round(Area,3))+\"$$ cm^2$$\"))\n",
    "elif opcion == 2:\n",
    "    radio = float(input(\"Ingrese el Radio (cm): \"))\n",
    "    Area = np.pi * radio**2\n",
    "    display(Math(sym.latex(round(Area,3))+\"$$ cm^2$$\"))\n",
    "elif opcion == 3:\n",
    "    base = float(input(\"Ingrese la base (cm): \"))\n",
    "    altura = float(input(\"Ingrese la altura (cm): \"))\n",
    "    Area = (base*altura)/2\n",
    "    display(Math(sym.latex(round(Area,3))+\"$$ cm^2$$\"))\n",
    "else:\n",
    "    print(\"Ingreso una opción incorrecta :( \")"
   ]
  },
  {
   "cell_type": "markdown",
   "id": "88d3b187",
   "metadata": {},
   "source": [
    "# Reto 5 - Rangos cambiantes"
   ]
  },
  {
   "cell_type": "code",
   "execution_count": 133,
   "id": "45864d67",
   "metadata": {},
   "outputs": [
    {
     "name": "stdout",
     "output_type": "stream",
     "text": [
      "Ingrese un  Limite Inferior: 1\n",
      "Ingrese un  Limite Superior: 10\n",
      "Ingrese un  Número de Comparación: 11\n",
      "El numero 11.0 se encuentra fuera de los rangos de los limites\n",
      "Ingrese un  Limite Inferior: 1\n",
      "Ingrese un  Limite Superior: 10\n",
      "Ingrese un  Número de Comparación: 10\n",
      "El numero 10.0 se encuentra fuera de los rangos de los limites\n",
      "Ingrese un  Limite Inferior: 1\n",
      "Ingrese un  Limite Superior: 9\n",
      "Ingrese un  Número de Comparación: 5\n",
      "El numero 5.0 se encuentra en el rango de los limites\n"
     ]
    }
   ],
   "source": [
    "bandera = True\n",
    "while(bandera):\n",
    "    inferior = float(input(\"Ingrese un  Limite Inferior: \"))\n",
    "    superior = float(input(\"Ingrese un  Limite Superior: \"))\n",
    "    numero = float(input(\"Ingrese un  Número de Comparación: \"))\n",
    "    if (numero> inferior and numero < superior):\n",
    "        print(\"El numero\",numero,\"se encuentra en el rango de los limites\")\n",
    "        bandera = False\n",
    "    else:\n",
    "        print(\"El numero\",numero,\"se encuentra fuera de los rangos de los limites\")"
   ]
  }
 ],
 "metadata": {
  "kernelspec": {
   "display_name": "Python 3",
   "language": "python",
   "name": "python3"
  },
  "language_info": {
   "codemirror_mode": {
    "name": "ipython",
    "version": 3
   },
   "file_extension": ".py",
   "mimetype": "text/x-python",
   "name": "python",
   "nbconvert_exporter": "python",
   "pygments_lexer": "ipython3",
   "version": "3.8.8"
  }
 },
 "nbformat": 4,
 "nbformat_minor": 5
}
